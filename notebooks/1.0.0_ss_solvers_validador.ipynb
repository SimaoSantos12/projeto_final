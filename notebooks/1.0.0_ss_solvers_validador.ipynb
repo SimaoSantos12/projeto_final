{
 "cells": [
  {
   "cell_type": "markdown",
   "id": "384f0f24-ae7c-4726-b4d7-63aee86771a0",
   "metadata": {},
   "source": [
    "## Descrição"
   ]
  },
  {
   "cell_type": "markdown",
   "id": "60a19eb5-dd43-4a7d-94f2-efb8d3f024dd",
   "metadata": {},
   "source": [
    "Notebook exploratorio do solver e do método de validação de soluções"
   ]
  },
  {
   "cell_type": "code",
   "execution_count": 43,
   "id": "666638bd-e7a1-48c7-bf02-b7c15d86abab",
   "metadata": {},
   "outputs": [
    {
     "name": "stdout",
     "output_type": "stream",
     "text": [
      "The autoreload extension is already loaded. To reload it, use:\n",
      "  %reload_ext autoreload\n"
     ]
    }
   ],
   "source": [
    "#import yaml\n",
    "import copy\n",
    "import numpy as np\n",
    "import pandas as pd\n",
    "\n",
    "import os\n",
    "import csv\n",
    "from tqdm import tqdm\n",
    "import matplotlib.pyplot as plt\n",
    "\n",
    "%load_ext autoreload\n",
    "%autoreload 2"
   ]
  },
  {
   "cell_type": "code",
   "execution_count": 44,
   "id": "1a3b2887-9ee2-45a3-b523-f63de30a0684",
   "metadata": {},
   "outputs": [],
   "source": [
    "from pyvrp import Model, Solution\n",
    "from pyvrp.stop import MaxRuntime\n",
    "from pyvrp import Client, Depot, ProblemData, VehicleType, solve as _solve\n",
    "from pyvrp.plotting import plot_result"
   ]
  },
  {
   "cell_type": "code",
   "execution_count": 45,
   "id": "b16c6494-df9e-46f5-bee5-d791297ccb6f",
   "metadata": {},
   "outputs": [],
   "source": [
    "df=pd.read_csv(\"../data/niveis_inicio_fim_dez_1.csv\", delimiter=',')"
   ]
  },
  {
   "cell_type": "code",
   "execution_count": 46,
   "id": "f4249f3a",
   "metadata": {},
   "outputs": [
    {
     "data": {
      "text/html": [
       "<div>\n",
       "<style scoped>\n",
       "    .dataframe tbody tr th:only-of-type {\n",
       "        vertical-align: middle;\n",
       "    }\n",
       "\n",
       "    .dataframe tbody tr th {\n",
       "        vertical-align: top;\n",
       "    }\n",
       "\n",
       "    .dataframe thead th {\n",
       "        text-align: right;\n",
       "    }\n",
       "</style>\n",
       "<table border=\"1\" class=\"dataframe\">\n",
       "  <thead>\n",
       "    <tr style=\"text-align: right;\">\n",
       "      <th></th>\n",
       "      <th>Data</th>\n",
       "      <th>Circuito</th>\n",
       "      <th>Tipo</th>\n",
       "      <th>local_id</th>\n",
       "      <th>pred_ench_3m_med</th>\n",
       "      <th>pred_ench_hgb</th>\n",
       "      <th>nivel_fim_hgb</th>\n",
       "      <th>nivel_fim_baseline</th>\n",
       "    </tr>\n",
       "  </thead>\n",
       "  <tbody>\n",
       "    <tr>\n",
       "      <th>0</th>\n",
       "      <td>2024-12-02</td>\n",
       "      <td>Circ_Ilhas</td>\n",
       "      <td>Vidro</td>\n",
       "      <td>3863</td>\n",
       "      <td>2.159022</td>\n",
       "      <td>1.543212</td>\n",
       "      <td>1.543212</td>\n",
       "      <td>2.159022</td>\n",
       "    </tr>\n",
       "    <tr>\n",
       "      <th>1</th>\n",
       "      <td>2024-12-02</td>\n",
       "      <td>Circ_Ilhas</td>\n",
       "      <td>Vidro</td>\n",
       "      <td>3864</td>\n",
       "      <td>1.317753</td>\n",
       "      <td>1.775170</td>\n",
       "      <td>1.775170</td>\n",
       "      <td>1.317753</td>\n",
       "    </tr>\n",
       "    <tr>\n",
       "      <th>2</th>\n",
       "      <td>2024-12-02</td>\n",
       "      <td>Circ_Ilhas</td>\n",
       "      <td>Vidro</td>\n",
       "      <td>3844</td>\n",
       "      <td>1.135486</td>\n",
       "      <td>1.052217</td>\n",
       "      <td>1.052217</td>\n",
       "      <td>1.135486</td>\n",
       "    </tr>\n",
       "    <tr>\n",
       "      <th>3</th>\n",
       "      <td>2024-12-02</td>\n",
       "      <td>Circ_Ilhas</td>\n",
       "      <td>Vidro</td>\n",
       "      <td>3865</td>\n",
       "      <td>1.351893</td>\n",
       "      <td>1.089465</td>\n",
       "      <td>1.089465</td>\n",
       "      <td>1.351893</td>\n",
       "    </tr>\n",
       "    <tr>\n",
       "      <th>4</th>\n",
       "      <td>2024-12-02</td>\n",
       "      <td>Circ_Ilhas</td>\n",
       "      <td>Vidro</td>\n",
       "      <td>3732</td>\n",
       "      <td>1.158147</td>\n",
       "      <td>1.081761</td>\n",
       "      <td>1.081761</td>\n",
       "      <td>1.158147</td>\n",
       "    </tr>\n",
       "  </tbody>\n",
       "</table>\n",
       "</div>"
      ],
      "text/plain": [
       "         Data    Circuito   Tipo  local_id  pred_ench_3m_med  pred_ench_hgb  \\\n",
       "0  2024-12-02  Circ_Ilhas  Vidro      3863          2.159022       1.543212   \n",
       "1  2024-12-02  Circ_Ilhas  Vidro      3864          1.317753       1.775170   \n",
       "2  2024-12-02  Circ_Ilhas  Vidro      3844          1.135486       1.052217   \n",
       "3  2024-12-02  Circ_Ilhas  Vidro      3865          1.351893       1.089465   \n",
       "4  2024-12-02  Circ_Ilhas  Vidro      3732          1.158147       1.081761   \n",
       "\n",
       "   nivel_fim_hgb  nivel_fim_baseline  \n",
       "0       1.543212            2.159022  \n",
       "1       1.775170            1.317753  \n",
       "2       1.052217            1.135486  \n",
       "3       1.089465            1.351893  \n",
       "4       1.081761            1.158147  "
      ]
     },
     "execution_count": 46,
     "metadata": {},
     "output_type": "execute_result"
    }
   ],
   "source": [
    "df.head()"
   ]
  },
  {
   "cell_type": "code",
   "execution_count": 47,
   "id": "33901f13-0268-4cfe-940f-31734919a61f",
   "metadata": {},
   "outputs": [],
   "source": [
    "def load_data(df):\n",
    "    df['Data'] = pd.to_datetime(df['Data'])#, dayfirst=True)\n",
    "    df['Data'] = df['Data'].dt.normalize()"
   ]
  },
  {
   "cell_type": "markdown",
   "id": "fa8f2b57-ab96-4022-87d5-dc51153b0299",
   "metadata": {},
   "source": [
    "Pré-processa o dataframe. Faz o seguinte: Converte a coluna 'Data' para datetime no formato dia/mes/ano e remove a parte da hora (dt.normalize).\n",
    "Substitui os valores que são NaN nas colunas Nivel_inicio e Nivel_fim por 3. Depois para cada linha dessas colunas, pega nos valores. Se o valor da coluna Nivel_inicio for maior que o da Nivel_fim, iverte os valores."
   ]
  },
  {
   "cell_type": "code",
   "execution_count": 48,
   "id": "652cd8dd",
   "metadata": {},
   "outputs": [],
   "source": [
    "CIRCUITOS = ['Circuito_01', 'Circuito_02', 'Circuito_03', 'Circuito_04',\n",
    "             'Circuito_05', 'Circuito_06', 'Circuito_07', 'Circuito_08',\n",
    "             'Circuito_09', 'Circuito_10', 'Circuito_11', 'Circuito_12', 'Circ_Ilhas']"
   ]
  },
  {
   "cell_type": "code",
   "execution_count": 49,
   "id": "74030f90",
   "metadata": {},
   "outputs": [],
   "source": [
    "tpath = '../sim/environments/gcvrp/sim_data/matrizes_tempo/'\n",
    "dpath = '../sim/environments/gcvrp/sim_data/matrizes_distancia/'\n",
    "cpath = '../sim/environments/gcvrp/sim_data/circuitos/'\n",
    "\n",
    "mat_temp = {circ: np.loadtxt(tpath + f'matriz_tempo_{circ}.csv', delimiter=',')  for circ in CIRCUITOS} # minutes\n",
    "mat_dist = {circ: np.loadtxt(dpath + f'matriz_dist_{circ}.csv', delimiter=',')  for circ in CIRCUITOS} # mete\n",
    "circuitos = {circ: pd.read_csv(cpath + f'{circ}_pontos.csv')  for circ in CIRCUITOS}        "
   ]
  },
  {
   "cell_type": "code",
   "execution_count": 50,
   "id": "a5147bc4-211b-4573-92a8-4816a492bb53",
   "metadata": {},
   "outputs": [],
   "source": [
    "def construir_instance(circuito, pontos, matrizes_dist_dict, matrizes_tempo_dict, demands, capacidade):\n",
    "    coords = [[p['lon'], p['lat']] for k, p in pontos.iterrows()]\n",
    "    num_locs = len(coords)\n",
    "    instance = {\n",
    "        \"coords\": coords,\n",
    "        \"demands\": demands,\n",
    "        \"prize\": [beta * d / sum(demands) for d in demands],  # ← CORRIGIDO AQUI\n",
    "        \"service_time\": [5] * num_locs,\n",
    "        \"capacity\": capacidade,\n",
    "        \"cost_matrix\": matrizes_dist_dict[circuito] / dist_scale ,\n",
    "        \"time_matrix\": matrizes_tempo_dict[circuito],\n",
    "        \"start_depot_idx\": 0,\n",
    "        \"end_depot_idx\": 1\n",
    "    }\n",
    "\n",
    "    return instance"
   ]
  },
  {
   "cell_type": "markdown",
   "id": "3ba67419-27e3-4651-b837-d46da9c177d5",
   "metadata": {},
   "source": [
    "Constroi a instance com os dados "
   ]
  },
  {
   "cell_type": "code",
   "execution_count": 51,
   "id": "7823d311-ea8d-4aa2-bdcd-1b61d057ae6f",
   "metadata": {},
   "outputs": [],
   "source": [
    "def scale(data, scaling_factor):\n",
    "    arr = np.array(data, dtype=float)  # converte input para array numpy float\n",
    "    arr = arr * scaling_factor          # multiplica valores, não o tamanho\n",
    "    arr = np.where(np.isfinite(arr), arr, 0)  # trata NaN ou inf substituindo por 0\n",
    "    #arr = arr.round().astype(int)       # arredonda e converte para int\n",
    "    if arr.size == 1:\n",
    "        return arr.item()               # retorna escalar se só tiver um elemento\n",
    "    return arr"
   ]
  },
  {
   "cell_type": "code",
   "execution_count": 52,
   "id": "5e14b5cc-7128-47ee-b4ee-7843721ecedc",
   "metadata": {},
   "outputs": [],
   "source": [
    "def instance2data(instance: dict, scaling_factor: int, verbose=False) -> ProblemData:\n",
    "    \"\"\"\n",
    "    Converte uma instância genérica para o formato ProblemData do PyVRP,\n",
    "    preparada para problemas com clientes opcionais (PCVRP).\n",
    "    \"\"\"\n",
    "\n",
    "\n",
    "    # Converter DataFrames para listas, se necessário\n",
    "    #if isinstance(instance[\"cost_matrix\"], pd.DataFrame):\n",
    "    #    instance[\"cost_matrix\"] = instance[\"cost_matrix\"].values.tolist()\n",
    "    #if isinstance(instance[\"time_matrix\"], pd.DataFrame):\n",
    "    #    instance[\"time_matrix\"] = instance[\"time_matrix\"].values.tolist()\n",
    "\n",
    "    # Aplicar escala\n",
    "    coords = scale(instance[\"coords\"], scaling_factor)\n",
    "    demands = scale(instance[\"demands\"], scaling_factor)\n",
    "    prize = scale(instance[\"prize\"], scaling_factor)\n",
    "    service = scale(instance[\"service_time\"], scaling_factor)\n",
    "    capacity = [scale(instance[\"capacity\"], scaling_factor)]\n",
    "    matrix = scale(instance[\"cost_matrix\"], scaling_factor)\n",
    "    matrix_time = scale(instance[\"time_matrix\"], scaling_factor)\n",
    "\n",
    "    num_locs = len(coords)\n",
    "    start_depot_idx = instance.get(\"start_depot_idx\", 0)\n",
    "    end_depot_idx = instance.get(\"end_depot_idx\", 1)\n",
    "\n",
    "    # Verificar índices de depósitos\n",
    "    if start_depot_idx < 0 or start_depot_idx >= num_locs:\n",
    "        raise ValueError(f\"Início do depósito inválido: {start_depot_idx}\")\n",
    "    if end_depot_idx < 0 or end_depot_idx >= num_locs:\n",
    "        raise ValueError(f\"Fim do depósito inválido: {end_depot_idx}\")\n",
    "\n",
    "    # Criar depósitos\n",
    "    depots = [Depot(x=coords[start_depot_idx][0], y=coords[start_depot_idx][1])]\n",
    "    if start_depot_idx != end_depot_idx:\n",
    "        depots.append(Depot(x=coords[end_depot_idx][0], y=coords[end_depot_idx][1]))\n",
    "\n",
    "    # Criar clientes opcionais (com prize)\n",
    "    clients = []\n",
    "    for idx in range(num_locs):\n",
    "        if idx not in [start_depot_idx, end_depot_idx]:\n",
    "            clients.append(Client(\n",
    "                x=coords[idx][0],\n",
    "                y=coords[idx][1],\n",
    "                pickup=[demands[idx]],\n",
    "                prize=prize[idx],\n",
    "                service_duration=service[idx],\n",
    "                required=False,  # ← ESSENCIAL para PCVRP\n",
    "            ))\n",
    "\n",
    "    # Tipo de veículo\n",
    "    vehicle_types = [\n",
    "        VehicleType(\n",
    "            num_available=1,\n",
    "            max_duration=420*PYVRP_SCALING_FACTOR,\n",
    "            capacity=capacity,\n",
    "            start_depot=start_depot_idx,\n",
    "            end_depot=end_depot_idx,\n",
    "        )\n",
    "    ]\n",
    "\n",
    "    # Verificação da matriz\n",
    "    expected_size = num_locs\n",
    "    if matrix.shape != (expected_size, expected_size):\n",
    "        raise ValueError(f\"Shape inconsistente: matriz {matrix.shape}, esperava {(expected_size, expected_size)}\")\n",
    "\n",
    "    if verbose:\n",
    "        # Debug info\n",
    "        print(\"→ Matrix shape:\", matrix.shape)\n",
    "        print(\"→ Num clients:\", len(clients))\n",
    "        print(\"→ Num depots:\", len(depots))\n",
    "        print(\"→ Total demand:\", sum(demands))\n",
    "        print(\"Prize: \", prize)\n",
    "        print(\"Demands: \", demands)\n",
    "        print(\"→ Expected matrix size:\", expected_size)\n",
    "        print(\"OPAAAA\", matrix)\n",
    "        print(\"OLAAA\", matrix_time)\n",
    "\n",
    "    return ProblemData(clients, depots, vehicle_types, [matrix], [matrix_time])"
   ]
  },
  {
   "cell_type": "code",
   "execution_count": 53,
   "id": "7e880bfe-67f6-461b-acf3-ec97eb32eea5",
   "metadata": {},
   "outputs": [],
   "source": [
    "def solution2action(solution: Solution) -> list[int]:\n",
    "    \"\"\"\n",
    "    Converte uma solução do PyVRP para a representação de ações (tour gigante),\n",
    "    incluindo explicitamente os índices de depósito inicial e final.\n",
    "    \"\"\"\n",
    "    action = []\n",
    "    \n",
    "    for route in solution.routes():\n",
    "        # Adicionar o depósito inicial\n",
    "        action.append(route.start_depot())\n",
    "        \n",
    "        # Adicionar as visitas dos clientes\n",
    "        action.extend(route.visits())\n",
    "        \n",
    "        # Adicionar o depósito final\n",
    "        action.append(route.end_depot())\n",
    "        \n",
    "    return action\n"
   ]
  },
  {
   "cell_type": "code",
   "execution_count": 54,
   "id": "2e81ca94-6183-4db7-aaf4-09755d181475",
   "metadata": {},
   "outputs": [],
   "source": [
    "def solve(instance, max_runtime, **kwargs):\n",
    "    data = instance2data(instance, PYVRP_SCALING_FACTOR)\n",
    "    stop = MaxRuntime(max_runtime)\n",
    "    result = _solve(data, stop, **kwargs) # A função de resolução retorna um Result\n",
    "    solution = result.best # A melhor solução está no atributo 'best'\n",
    "    cost = result.cost() / PYVRP_SCALING_FACTOR # Assumindo que 'cost' é um atributo da Solution\n",
    "    #print(\"→ Prize total recolhido:\", solution.prize())\n",
    "    #print(\"→ Custo (distância total):\", solution.cost())\n",
    "    \n",
    "    return solution, cost"
   ]
  },
  {
   "cell_type": "code",
   "execution_count": 55,
   "id": "e7284cd6-2e2c-4a2c-8e64-80bca159e827",
   "metadata": {},
   "outputs": [],
   "source": [
    "def analisar_solucao(solution, cost, demands, beta, dist_scale, scaling_factor):\n",
    "    print(\"Função Objetivo:\", cost)\n",
    "\n",
    "    # Ações (rota)\n",
    "    actions = solution2action(solution)\n",
    "    print(\"Ações da solução:\", actions)\n",
    "\n",
    "    # Distância total ajustada\n",
    "    distancia_ajustada = solution.distance() / scaling_factor\n",
    "\n",
    "\n",
    "    # Prêmios não coletados ajustados\n",
    "    premios_nao_coletados = solution.uncollected_prizes() / scaling_factor\n",
    "    #print(\"Prêmios não coletados ajustados:\", premios_nao_coletados)\n",
    "\n",
    "    # Custo total considerando distância e prêmios não coletados\n",
    "    custo_total = distancia_ajustada + (solution.uncollected_prizes() / scaling_factor)\n",
    "    #print(\"Custo total ajustado (distância + prêmios não coletados):\", custo_total)\n",
    "\n",
    "    # Distância ajustada com fator de escala\n",
    "    distancia_escalada = distancia_ajustada * dist_scale\n",
    "    print(\"Distância:\", distancia_escalada)\n",
    "\n",
    "    # Duração ajustada\n",
    "    duracao_ajustada = solution.duration() / scaling_factor\n",
    "    print(\"Duração:\", duracao_ajustada)\n",
    "\n",
    "    premios_un = solution.uncollected_prizes() * sum(demands) / (beta * scaling_factor)\n",
    "    print(\"Prêmios não coletados:\", premios_un)\n",
    "\n",
    "    \n",
    "    # Prêmios não coletados em % do beta\n",
    "    percentual_nao_coletado = solution.uncollected_prizes() / (beta * scaling_factor) * 100\n",
    "    print(\"Prêmios não coletados (%):\", percentual_nao_coletado)\n",
    "\n",
    "    # Prêmios coletados ajustados\n",
    "    premios_coletados = solution.prizes() * sum(demands) / (beta * scaling_factor)\n",
    "    print(\"Prêmios coletados:\", premios_coletados)\n",
    "\n",
    "    soma_total_lixo= sum(demands)\n",
    "    print(\"Total de lixo:\", soma_total_lixo)\n",
    "\n",
    "    return {\n",
    "        \"distancia_ajustada\": distancia_ajustada,\n",
    "        \"penalidade_premios\": premios_un,\n",
    "        \"distancia_escalada\": distancia_escalada,\n",
    "        \"duracao_ajustada\": duracao_ajustada,\n",
    "        \"percentual_nao_coletado\": percentual_nao_coletado,\n",
    "        \"premios_coletados\": premios_coletados,\n",
    "        \"custo_total\": custo_total,\n",
    "        \"acoes\": actions,\n",
    "    }\n"
   ]
  },
  {
   "cell_type": "code",
   "execution_count": 56,
   "id": "f31c8b1b-512c-40a5-b593-3f0f4ad9c8b7",
   "metadata": {},
   "outputs": [],
   "source": [
    "def calc_sub_rota(actions, demands_fim, matrizes_dist_dict, matrizes_tempo_dict , circuito, verbose=False):\n",
    "\n",
    "    circuito_esc_tempo=matrizes_tempo_dict[circuito]\n",
    "    circuito_esc_dist=matrizes_dist_dict[circuito]\n",
    "\n",
    "    service_time = 5\n",
    "    sub_rota = [actions[0]]  # incluir o depósito inicial\n",
    "    tempo = 0\n",
    "    dist = 0\n",
    "    curr_load = 0\n",
    "    cap = 120\n",
    "\n",
    "    for k in range(1, len(actions)-1):\n",
    "        serv_ant = actions[k - 1]\n",
    "        serv = actions[k]\n",
    "        #print(serv)\n",
    "        demanda = demands_fim[serv]\n",
    "        if verbose:\n",
    "            print(\"O ponto é\", serv)\n",
    "            print(\"A sua demanda é\", demanda)\n",
    "\n",
    "            print(f\"curr_load: {curr_load} ({type(curr_load)})\")\n",
    "            print(f\"demanda: {demanda} ({type(demanda)})\")\n",
    "            print(f\"capacidade: {cap} ({type(cap)})\")\n",
    "            print(f\"soma: {curr_load + demanda}\")\n",
    "            print(f\"Condição: {curr_load + demanda <= cap}\")\n",
    "        if curr_load + demanda <= cap:\n",
    "            curr_load += demanda\n",
    "            sub_rota.append(serv)\n",
    "            tempo += circuito_esc_tempo[serv_ant, serv]\n",
    "            tempo += service_time\n",
    "            dist += circuito_esc_dist[serv_ant, serv]\n",
    "\n",
    "        else:\n",
    "            carga_possivel = cap - curr_load\n",
    "\n",
    "            if carga_possivel > 0:\n",
    "                #print(\"A carga é\",carga_possivel)\n",
    "                curr_load += carga_possivel\n",
    "                tempo += circuito_esc_tempo[serv_ant, serv]\n",
    "                tempo += service_time\n",
    "                dist += circuito_esc_dist[serv_ant, serv]\n",
    "                break\n",
    "    # Finaliza a rota\n",
    "    sub_rota.append(actions[-1])\n",
    "    tempo += circuito_esc_tempo[serv, actions[-1]]\n",
    "    dist += circuito_esc_dist[serv, actions[-1]]\n",
    "    return sub_rota, tempo, dist, curr_load"
   ]
  },
  {
   "cell_type": "code",
   "execution_count": 57,
   "id": "d616030b-ecf4-47e8-a0f2-4859dedb27c0",
   "metadata": {},
   "outputs": [],
   "source": [
    "PYVRP_SCALING_FACTOR = 1_000_000\n",
    "beta = 10\n",
    "dist_scale = 20000"
   ]
  },
  {
   "cell_type": "code",
   "execution_count": 58,
   "id": "6c10b86b-03d6-470a-b824-85be3500acd9",
   "metadata": {},
   "outputs": [],
   "source": [
    "load_data(df)"
   ]
  },
  {
   "cell_type": "code",
   "execution_count": 25,
   "id": "27659146-c9da-4680-9145-2f956ae0409b",
   "metadata": {
    "scrolled": true
   },
   "outputs": [],
   "source": [
    "#circuitos_matrizes_dist"
   ]
  },
  {
   "cell_type": "code",
   "execution_count": 59,
   "id": "19d0779a-ea2f-400e-9ffd-d5af82470450",
   "metadata": {},
   "outputs": [],
   "source": [
    "data=pd.to_datetime('2024-12-02')\n",
    "circuito='Circ_Ilhas'\n",
    "tipo='Vidro'\n",
    "capacidade=120\n",
    "pontos_do_circuito = circuitos[circuito]\n"
   ]
  },
  {
   "cell_type": "code",
   "execution_count": 60,
   "id": "332a3511-fdac-4e3b-8785-7ac4c0aa59c9",
   "metadata": {},
   "outputs": [],
   "source": [
    "#demands_inicio = extrair_demands(df, data= data.date(), circuito=circuito, tipo=tipo, pontos_do_circuito=pontos_do_circuito, coluna='pred_ench_3m_med')"
   ]
  },
  {
   "cell_type": "code",
   "execution_count": 61,
   "id": "5e26ec28",
   "metadata": {},
   "outputs": [
    {
     "name": "stderr",
     "output_type": "stream",
     "text": [
      "C:\\Users\\simao\\AppData\\Local\\Temp\\ipykernel_22380\\122197432.py:2: FutureWarning: Comparison of Timestamp with datetime.date is deprecated in order to match the standard library behavior. In a future version these will be considered non-comparable. Use 'ts == pd.Timestamp(date)' or 'ts.date() == date' instead.\n",
      "  (df['Data'].dt.date == data) &\n"
     ]
    }
   ],
   "source": [
    "df_filtrado = df[\n",
    "        (df['Data'].dt.date == data) &\n",
    "        (df['Circuito'] == circuito) &\n",
    "        (df['Tipo'] == tipo)\n",
    "    ]"
   ]
  },
  {
   "cell_type": "code",
   "execution_count": 62,
   "id": "cce75442",
   "metadata": {},
   "outputs": [],
   "source": [
    "demands_inicio_base = np.hstack([np.zeros(2), df_filtrado['pred_ench_3m_med'].to_numpy()]) \n",
    "demands_inicio_hgb = np.hstack([np.zeros(2), df_filtrado['pred_ench_hgb'].to_numpy()]) "
   ]
  },
  {
   "cell_type": "code",
   "execution_count": 63,
   "id": "4e863c54",
   "metadata": {},
   "outputs": [
    {
     "data": {
      "text/plain": [
       "70.98883448991012"
      ]
     },
     "execution_count": 63,
     "metadata": {},
     "output_type": "execute_result"
    }
   ],
   "source": [
    "demands_inicio_hgb.sum()"
   ]
  },
  {
   "cell_type": "code",
   "execution_count": 64,
   "id": "0d912091-35e1-4412-b0b8-ad802faee9e7",
   "metadata": {},
   "outputs": [],
   "source": [
    "instance_inicio_base = construir_instance(\n",
    "    circuito = circuito,\n",
    "    pontos = pontos_do_circuito,\n",
    "    matrizes_dist_dict = mat_dist,\n",
    "    matrizes_tempo_dict = mat_temp,\n",
    "    demands = demands_inicio_base,\n",
    "    capacidade = capacidade\n",
    ")"
   ]
  },
  {
   "cell_type": "code",
   "execution_count": 65,
   "id": "e9606a85-1663-435f-a441-fff3adc94867",
   "metadata": {
    "scrolled": true
   },
   "outputs": [],
   "source": [
    "instance_inicio_hgb = construir_instance(\n",
    "    circuito = circuito,\n",
    "    pontos = pontos_do_circuito,\n",
    "    matrizes_dist_dict = mat_dist,\n",
    "    matrizes_tempo_dict = mat_temp,\n",
    "    demands = demands_inicio_hgb,\n",
    "    capacidade = capacidade\n",
    ")"
   ]
  },
  {
   "cell_type": "code",
   "execution_count": null,
   "id": "31347895-6051-4281-b6d8-8456912ff814",
   "metadata": {},
   "outputs": [],
   "source": []
  },
  {
   "cell_type": "code",
   "execution_count": 66,
   "id": "5fbd203e-1b75-4300-b678-0eedb4a79c8a",
   "metadata": {},
   "outputs": [
    {
     "name": "stdout",
     "output_type": "stream",
     "text": [
      "Custo base (distância): 2.586973\n",
      "Custo hgb (distância): 2.592889\n"
     ]
    }
   ],
   "source": [
    "solution_inicio_base, cost_inicio_base= solve(instance_inicio_base, max_runtime=10)\n",
    "print(\"Custo base (distância):\", cost_inicio_base)\n",
    "solution_inicio_hgb, cost_inicio_hgb= solve(instance_inicio_hgb, max_runtime=10)\n",
    "print(\"Custo hgb (distância):\", cost_inicio_hgb)"
   ]
  },
  {
   "cell_type": "code",
   "execution_count": 67,
   "id": "5c63a81a-c0cd-498c-a2a5-977689facdd2",
   "metadata": {},
   "outputs": [],
   "source": [
    "actions_inicio_base = solution2action(solution_inicio_base)\n",
    "actions_inicio_hgb = solution2action(solution_inicio_hgb)"
   ]
  },
  {
   "cell_type": "markdown",
   "id": "24c178c2",
   "metadata": {},
   "source": [
    "### sub rota + rota final "
   ]
  },
  {
   "cell_type": "code",
   "execution_count": 68,
   "id": "4b6346f2-87a8-4e3b-a945-4a1a17e48d2c",
   "metadata": {},
   "outputs": [],
   "source": [
    "demands_fim = np.hstack([np.zeros(2), df_filtrado['nivel_fim_hgb'].to_numpy()]) "
   ]
  },
  {
   "cell_type": "code",
   "execution_count": 69,
   "id": "9c84aed0",
   "metadata": {},
   "outputs": [
    {
     "data": {
      "text/plain": [
       "71.73652290068863"
      ]
     },
     "execution_count": 69,
     "metadata": {},
     "output_type": "execute_result"
    }
   ],
   "source": [
    "sum(demands_fim)"
   ]
  },
  {
   "cell_type": "code",
   "execution_count": 70,
   "id": "36264c04-c111-46ae-96b3-6c99b11b8f07",
   "metadata": {},
   "outputs": [],
   "source": [
    "instance_fim = construir_instance(\n",
    "    circuito=circuito,\n",
    "    pontos=pontos_do_circuito,\n",
    "    matrizes_dist_dict = mat_dist,\n",
    "    matrizes_tempo_dict = mat_temp,\n",
    "    demands=demands_fim,\n",
    "    capacidade=capacidade\n",
    ")"
   ]
  },
  {
   "cell_type": "code",
   "execution_count": 71,
   "id": "4adb61c4",
   "metadata": {},
   "outputs": [],
   "source": [
    "sub_rota_base, tempo_base, dist_base, curr_load_base = calc_sub_rota(actions_inicio_base, demands_fim, mat_dist,mat_temp, circuito)\n",
    "sub_rota_hgb, tempo_hgb, dist_hgb, curr_load_hgb = calc_sub_rota(actions_inicio_hgb, demands_fim, mat_dist, mat_temp, circuito)"
   ]
  },
  {
   "cell_type": "code",
   "execution_count": 72,
   "id": "e82be697-25e2-4297-9c5a-3befa46d35a7",
   "metadata": {},
   "outputs": [
    {
     "name": "stdout",
     "output_type": "stream",
     "text": [
      "Custo (distância): 2.592889\n"
     ]
    }
   ],
   "source": [
    "solution_fim, cost_fim = solve(instance_fim, max_runtime=10)\n",
    "print(\"Custo (distância):\", cost_fim)"
   ]
  },
  {
   "cell_type": "code",
   "execution_count": null,
   "id": "b399357f-b697-46e9-8a7f-0e7b5b5e3e08",
   "metadata": {},
   "outputs": [],
   "source": []
  },
  {
   "cell_type": "code",
   "execution_count": 73,
   "id": "b938661f-55c2-4722-9494-6a1a6c2fecad",
   "metadata": {},
   "outputs": [
    {
     "name": "stdout",
     "output_type": "stream",
     "text": [
      "Rota Inicio base\n",
      "\n",
      "Função Objetivo: 2.586973\n",
      "Ações da solução: [0, 28, 25, 14, 13, 15, 40, 11, 16, 43, 41, 42, 12, 19, 20, 18, 26, 27, 22, 23, 21, 29, 24, 36, 30, 39, 34, 33, 35, 2, 3, 9, 8, 4, 5, 10, 7, 6, 32, 38, 37, 31, 1]\n",
      "Distância: 49631.36000000001\n",
      "Duração: 310.777148\n",
      "Prêmios não coletados: 0.9999960507134188\n",
      "Prêmios não coletados (%): 1.05405\n",
      "Prêmios coletados: 93.87160878026447\n",
      "Total de lixo: 94.87178508736956\n",
      "\n",
      "--------------------------\n",
      "\n",
      "Rota Inicio hgb\n",
      "\n",
      "Função Objetivo: 2.592889\n",
      "Ações da solução: [0, 28, 25, 14, 13, 40, 15, 11, 16, 17, 43, 41, 42, 12, 19, 20, 18, 26, 27, 22, 23, 29, 21, 24, 36, 30, 39, 34, 33, 35, 2, 3, 9, 8, 4, 5, 10, 6, 7, 32, 38, 37, 31, 1]\n",
      "Distância: 51857.78\n",
      "Duração: 321.63148\n",
      "Prêmios não coletados: 0.0\n",
      "Prêmios não coletados (%): 0.0\n",
      "Prêmios coletados: 70.9886570178239\n",
      "Total de lixo: 70.98883448991012\n",
      "\n",
      "--------------------------\n",
      "\n",
      "Subrota base\n",
      "\n",
      "Ações [0, 28, 25, 14, 13, 15, 40, 11, 16, 43, 41, 42, 12, 19, 20, 18, 26, 27, 22, 23, 21, 29, 24, 36, 30, 39, 34, 33, 35, 2, 3, 9, 8, 4, 5, 10, 7, 6, 32, 38, 37, 31, 1]\n",
      "Distancia 49631.65999999998\n",
      "Duração 310.7771666666667\n",
      "Prêmios não coletados 1.0005685003184936\n",
      "Prêmios não coletados (%) 1.3947825457106018\n",
      "Prêmios coletados 70.73595440037013\n",
      "Total de lixo 71.73652290068863\n",
      "\n",
      "--------------------------\n",
      "\n",
      "Subrota hgb\n",
      "\n",
      "Ações [0, 28, 25, 14, 13, 40, 15, 11, 16, 17, 43, 41, 42, 12, 19, 20, 18, 26, 27, 22, 23, 29, 21, 24, 36, 30, 39, 34, 33, 35, 2, 3, 9, 8, 4, 5, 10, 6, 7, 32, 38, 37, 31, 1]\n",
      "Distancia 51858.09999999998\n",
      "Duração 321.63149999999996\n",
      "Prêmios não coletados -1.4210854715202004e-14\n",
      "Prêmios não coletados (%) -1.9809790244329767e-14\n",
      "Prêmios coletados 71.73652290068864\n",
      "Total de lixo 71.73652290068863\n",
      "\n",
      "--------------------------\n",
      "\n",
      "Rota Fim\n",
      "\n",
      "Função Objetivo: 2.592889\n",
      "Ações da solução: [0, 28, 25, 14, 13, 40, 15, 11, 16, 17, 43, 41, 42, 12, 19, 20, 18, 26, 27, 22, 23, 29, 21, 24, 36, 30, 39, 34, 33, 35, 2, 3, 9, 8, 4, 5, 10, 7, 6, 32, 38, 37, 31, 1]\n",
      "Distância: 51857.78\n",
      "Duração: 321.631647\n",
      "Prêmios não coletados: 0.0\n",
      "Prêmios não coletados (%): 0.0\n",
      "Prêmios coletados: 71.73640812225199\n",
      "Total de lixo: 71.73652290068863\n"
     ]
    }
   ],
   "source": [
    "print(\"Rota Inicio base\")\n",
    "print(\"\")\n",
    "\n",
    "resultados_inicio = analisar_solucao(\n",
    "    solution_inicio_base,\n",
    "    cost_inicio_base,\n",
    "    demands_inicio_base,\n",
    "    beta,\n",
    "    dist_scale,\n",
    "    PYVRP_SCALING_FACTOR\n",
    ")\n",
    "print(\"\")\n",
    "print(\"--------------------------\")\n",
    "print(\"\")\n",
    "\n",
    "\n",
    "print(\"Rota Inicio hgb\")\n",
    "print(\"\")\n",
    "\n",
    "resultados_inicio = analisar_solucao(\n",
    "    solution_inicio_hgb,\n",
    "    cost_inicio_hgb,\n",
    "    demands_inicio_hgb,\n",
    "    beta,\n",
    "    dist_scale,\n",
    "    PYVRP_SCALING_FACTOR\n",
    ")\n",
    "print(\"\")\n",
    "print(\"--------------------------\")\n",
    "print(\"\")\n",
    "print(\"Subrota base\")\n",
    "print(\"\")\n",
    "\n",
    "print(\"Ações\", sub_rota_base)\n",
    "print(\"Distancia\", dist_base)\n",
    "print(\"Duração\", tempo_base)\n",
    "prizes_un_base=sum(demands_fim)-curr_load_base\n",
    "print(\"Prêmios não coletados\", prizes_un_base)\n",
    "racio_base=prizes_un_base/sum(demands_fim) *100\n",
    "print(\"Prêmios não coletados (%)\", racio_base)\n",
    "print(\"Prêmios coletados\", curr_load_base)\n",
    "print(\"Total de lixo\", sum(demands_fim))\n",
    "\n",
    "print(\"\")\n",
    "print(\"--------------------------\")\n",
    "print(\"\")\n",
    "\n",
    "\n",
    "print(\"Subrota hgb\")\n",
    "print(\"\")\n",
    "\n",
    "print(\"Ações\", sub_rota_hgb)\n",
    "print(\"Distancia\", dist_hgb)\n",
    "print(\"Duração\", tempo_hgb)\n",
    "prizes_un_hgb=sum(demands_fim)-curr_load_hgb\n",
    "print(\"Prêmios não coletados\", prizes_un_hgb)\n",
    "racio_hgb=prizes_un_hgb/sum(demands_fim) *100\n",
    "print(\"Prêmios não coletados (%)\", racio_hgb)\n",
    "print(\"Prêmios coletados\", curr_load_hgb)\n",
    "print(\"Total de lixo\", sum(demands_fim))\n",
    "\n",
    "print(\"\")\n",
    "print(\"--------------------------\")\n",
    "print(\"\")\n",
    "\n",
    "print(\"Rota Fim\")\n",
    "print(\"\")\n",
    "resultados_fim = analisar_solucao(\n",
    "    solution_fim,\n",
    "    cost_fim,\n",
    "    demands_fim,\n",
    "    beta,\n",
    "    dist_scale,\n",
    "    PYVRP_SCALING_FACTOR\n",
    ")\n",
    "\n"
   ]
  },
  {
   "cell_type": "code",
   "execution_count": null,
   "id": "9db1de38-482f-4dac-97b8-20e40559296e",
   "metadata": {},
   "outputs": [],
   "source": []
  },
  {
   "cell_type": "code",
   "execution_count": null,
   "id": "d666b57b-1a04-458b-af8c-3dc8f427abdc",
   "metadata": {},
   "outputs": [],
   "source": []
  }
 ],
 "metadata": {
  "kernelspec": {
   "display_name": "Python 3 (ipykernel)",
   "language": "python",
   "name": "python3"
  },
  "language_info": {
   "codemirror_mode": {
    "name": "ipython",
    "version": 3
   },
   "file_extension": ".py",
   "mimetype": "text/x-python",
   "name": "python",
   "nbconvert_exporter": "python",
   "pygments_lexer": "ipython3",
   "version": "3.11.11"
  },
  "varInspector": {
   "cols": {
    "lenName": 16,
    "lenType": 16,
    "lenVar": 40
   },
   "kernels_config": {
    "python": {
     "delete_cmd_postfix": "",
     "delete_cmd_prefix": "del ",
     "library": "var_list.py",
     "varRefreshCmd": "print(var_dic_list())"
    },
    "r": {
     "delete_cmd_postfix": ") ",
     "delete_cmd_prefix": "rm(",
     "library": "var_list.r",
     "varRefreshCmd": "cat(var_dic_list()) "
    }
   },
   "types_to_exclude": [
    "module",
    "function",
    "builtin_function_or_method",
    "instance",
    "_Feature"
   ],
   "window_display": false
  }
 },
 "nbformat": 4,
 "nbformat_minor": 5
}
