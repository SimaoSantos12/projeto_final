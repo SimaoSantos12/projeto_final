{
 "cells": [
  {
   "cell_type": "markdown",
   "id": "4fc63ed3-9851-4f35-acab-96a74bcc587d",
   "metadata": {},
   "source": [
    "## Descrição"
   ]
  },
  {
   "cell_type": "markdown",
   "id": "7f06c047-8c96-4aba-a689-6ed07ca9c2a6",
   "metadata": {},
   "source": [
    "Notebook onde se cria uma tabela onde é registado por dia, tipo e circuito todos os pontos que foram observados, recolhidos, a sua ultima observação, a sua última recolha e os deltas"
   ]
  },
  {
   "cell_type": "code",
   "execution_count": 2,
   "id": "4f7683f8-eb1e-46da-8c46-7b7dc688933e",
   "metadata": {},
   "outputs": [],
   "source": [
    "import pandas as pd\n",
    "from datetime import datetime, time\n",
    "import numpy as np"
   ]
  },
  {
   "cell_type": "markdown",
   "id": "de02d155-319f-45bf-99dd-a5f4fc90af1d",
   "metadata": {},
   "source": [
    "Dependências : tabela_dados_nivel_recolha_ordenado_v2.csv\n"
   ]
  },
  {
   "cell_type": "markdown",
   "id": "146ba0a2-7749-4fba-a59a-2483cbd923de",
   "metadata": {},
   "source": [
    "Tempo médio de processamento: 90 minutos"
   ]
  },
  {
   "cell_type": "code",
   "execution_count": 3,
   "id": "8b260421-6ec4-4984-984c-6d844be093e3",
   "metadata": {},
   "outputs": [],
   "source": [
    "# Carregar os dados\n",
    "df = pd.read_csv(\"../data/tabela_dados_nivel_recolha_ordenado_v2.csv\", delimiter=',')\n",
    "df['Data do circuito'] = pd.to_datetime(df['Data do circuito'])\n",
    "\n",
    "# Filtrar até final de janeiro\n",
    "#df = df[df['Data do circuito'].dt.date <= datetime(2024, 1, 31).date()]"
   ]
  },
  {
   "cell_type": "code",
   "execution_count": 5,
   "id": "44a4d8dd-0157-44d4-a607-f7a89343b827",
   "metadata": {},
   "outputs": [],
   "source": [
    "# Preparar estruturas\n",
    "df['Data'] = df['Data do circuito'].dt.date\n",
    "tipos_recolha = {\n",
    "    'Papel': 'Recolhido Papel',\n",
    "    'Embalagens': 'Recolhido Embalagens',\n",
    "    'Vidro': 'Recolhido Vidro'\n",
    "}\n",
    "mapa_pontos = df.groupby('Circuito')['local_id'].unique().apply(list).to_dict()\n",
    "grupos = df.groupby(['Data', 'Circuito'])"
   ]
  },
  {
   "cell_type": "code",
   "execution_count": 7,
   "id": "453421d5-0c8e-4455-a200-a53171b5826a",
   "metadata": {},
   "outputs": [],
   "source": [
    "a = 0\n",
    "b = 0\n",
    "c = 0\n",
    "d = 0"
   ]
  },
  {
   "cell_type": "code",
   "execution_count": 11,
   "id": "c35b71b0-9042-4359-b670-2564d524ddb2",
   "metadata": {},
   "outputs": [],
   "source": [
    "# Função: obter nível no início do dia\n",
    "def obter_nivel_inicio(data, ponto, tipo):\n",
    "    inicio_dia = datetime.combine(data, time(0, 0))\n",
    "    dados = df[(df['local_id'] == ponto) & (df['Data do circuito'] < inicio_dia)]\n",
    "    dados = dados.sort_values(by='Data do circuito')\n",
    "    if not dados.empty and pd.notna(dados[tipo]).any():\n",
    "        return dados[tipo].dropna().iloc[-1]\n",
    "    return pd.NA"
   ]
  },
  {
   "cell_type": "code",
   "execution_count": 13,
   "id": "c3f30780-2757-47b7-bba1-6456dd9c12c1",
   "metadata": {},
   "outputs": [],
   "source": [
    "registos = []\n",
    "#Cria uma lista onde vão ser guardados dicionários com os dados finais, um por ponto, por tipo e por circuito por dia.\n",
    "\n",
    "for (data, circuito), grupo in grupos:\n",
    "    if pd.isna(circuito):\n",
    "        continue\n",
    "    #Percorre cada grupo no DataFrame agrupado por (Data, Circuito):\n",
    "    #data → a data da execução do circuito\n",
    "    #circuito → nome do circuito\n",
    "    #grupo → subconjunto do DataFrame original apenas com aquela data e aquele circuito\n",
    "    #Se o cirucito não existir nessa data, ignora\n",
    "\n",
    "    \n",
    "    for tipo, col_recolhido in tipos_recolha.items():\n",
    "        if (grupo[col_recolhido] == 1).any():\n",
    "            #Percorre os 3 tipos de resíduos e verifica se houve alguma recolha desse tipo nesse circuito específico \n",
    "            #(valores 1 na coluna Recolhido <Tipo>)\n",
    "            #Se houve é porque o cirucito foi feito\n",
    "            pontos = mapa_pontos.get(circuito, [])\n",
    "            #Obtém os pontos associados a este circuito (do dicionário mapa_pontos) e itera sobre cada um deles.\n",
    "            \n",
    "            for ponto in pontos:\n",
    "                nivel_inicio = obter_nivel_inicio(data, ponto, tipo)\n",
    "                #Calcula o nível que o ponto tinha no início do dia\n",
    "                fim_dia = datetime.combine(data, time(23, 59, 59))\n",
    "                #Define o fim do dia da data em questão, para considerar todos os registos até esse dia.\n",
    "                \n",
    "                registos_dia = df[\n",
    "                    (df['local_id'] == ponto) &\n",
    "                    (df['Data do circuito'] <= fim_dia)\n",
    "                ].sort_values(by='Data do circuito')\n",
    "                #Seleciona todos os registos do ponto até ao final do dia (pode ser em qualquer circuito), ordenados pela data.\n",
    "\n",
    "                # Apenas registos válidos para o tipo\n",
    "                registos_tipo_validos = registos_dia[pd.notna(registos_dia[tipo])]\n",
    "\n",
    "                # Verifica se houve recolha naquele circuito e data para o ponto\n",
    "                recolhido_no_circuito = grupo[\n",
    "                    (grupo['local_id'] == ponto) &\n",
    "                    (grupo[col_recolhido] == 1)\n",
    "                ]\n",
    "\n",
    "                # NOVO: Verifica se o ponto apareceu em qualquer circuito nesse dia\n",
    "                registos_no_dia = df[(df['Data'] == data) & (df['local_id'] == ponto)]\n",
    "                #Agora em vez de estar a procurar se houve registos no grupo, procuro se houve registos no dia\n",
    "                \n",
    "                # --- CASO 1: O ponto não foi registado em nenhum circuito nesta data ---\n",
    "                if registos_no_dia.empty:\n",
    "                    nivel_fim = nivel_inicio\n",
    "                    recolhido = 0\n",
    "                    atualizado = 0\n",
    "                    a += 1\n",
    "                #Se não houve nenhum registo do ponto nesse tipo até ao final do dia, o nivel mantem-se.\n",
    "                #E não houve nem recolha nem observação.\n",
    "            \n",
    "                \n",
    "                # --- CASO 2: Houve recolha neste circuito ---\n",
    "                elif not recolhido_no_circuito.empty:\n",
    "                    reg_final = recolhido_no_circuito.sort_values('Data do circuito').iloc[-1]\n",
    "                    #Os registos são ordenados por data (sort_values).\n",
    "                    #iloc[-1] pega o último (ou seja, o mais recente até ao fim do dia).\n",
    "                    #Esse será o momento onde ocorreu a recolha.\n",
    "                    \n",
    "                    # Verifica se o nível não é NaN\n",
    "                    if pd.notna(reg_final[tipo]):\n",
    "                        nivel_fim = reg_final[tipo] #Se for não for NaN, o nível é atribuído a nivel_fim\n",
    "                    else:\n",
    "                        nivel_fim = pd.NA #Se for NaN atribui-se NaN\n",
    "\n",
    "                    recolhido = 1\n",
    "                    atualizado = 1\n",
    "                    b += 1\n",
    "\n",
    "                # --- CASO 3: Houve observação mas não recolha ---\n",
    "                else:\n",
    "                    if not registos_tipo_validos.empty:\n",
    "                        reg_final = registos_tipo_validos.iloc[-1]\n",
    "                        nivel_fim = reg_final[tipo]\n",
    "                        #Se houve observação, mas não houve recolha, coloca-se o nível que foi registado. \n",
    "                        #Se o nível for NaN, vai se colocar o ultimo valor não NaN\n",
    "                    else:\n",
    "                        nivel_fim = nivel_inicio\n",
    "                        d +=1\n",
    "                        #Se não houver valor diferente de NaN, atribui-se que o valor final é igual ao inicial\n",
    "                    recolhido = 0\n",
    "                    atualizado = 1\n",
    "                    c += 1\n",
    "\n",
    "                registos.append({\n",
    "                    \"Data\": data,\n",
    "                    \"Circuito\": circuito,\n",
    "                    \"Tipo\": tipo,\n",
    "                    \"local_id\": ponto,\n",
    "                    \"Nivel_inicio\": nivel_inicio,\n",
    "                    \"Nivel_fim\": nivel_fim,\n",
    "                    \"Recolhido\": recolhido,\n",
    "                    \"Observacao\": atualizado\n",
    "                })"
   ]
  },
  {
   "cell_type": "code",
   "execution_count": 17,
   "id": "a68fd3d2-9034-4418-9447-77293f829d6f",
   "metadata": {},
   "outputs": [],
   "source": [
    "resultado_df = pd.DataFrame(registos)"
   ]
  },
  {
   "cell_type": "code",
   "execution_count": 19,
   "id": "390b142c-f089-43a5-a9b3-366b854b6c09",
   "metadata": {},
   "outputs": [
    {
     "name": "stdout",
     "output_type": "stream",
     "text": [
      "Caso 1:  120322\n",
      "Caso 2:  122346\n",
      "Caso 3:  119696\n",
      "Especial:  379\n"
     ]
    }
   ],
   "source": [
    "print(\"Caso 1: \", a)\n",
    "print(\"Caso 2: \", b)\n",
    "print(\"Caso 3: \", c)\n",
    "print(\"Especial: \", d)"
   ]
  },
  {
   "cell_type": "code",
   "execution_count": 64,
   "id": "4a9fc164-e9ae-48de-807c-16bb2fdb8023",
   "metadata": {},
   "outputs": [],
   "source": [
    "def calcular_tempo_desde_ultima_acao(resultado_df, df, coluna_flag_origem, coluna_destino):\n",
    "    df = df.copy()\n",
    "    df['DataHora'] = pd.to_datetime(df['Data do circuito'].astype(str) + ' ' + df['Hora'].astype(str))\n",
    "    resultado_df[coluna_destino] = pd.NaT\n",
    "\n",
    "    for idx, linha in resultado_df.iterrows():\n",
    "        ponto = linha['local_id']\n",
    "        tipo = linha['Tipo']\n",
    "        circuito = linha['Circuito']\n",
    "        data = linha['Data']\n",
    "        data_inicio = datetime.combine(data, time(0, 0))\n",
    "\n",
    "        # Condições base: ponto e registos antes do início do dia\n",
    "        condicoes = (\n",
    "            (df['local_id'] == ponto) &\n",
    "            (df['DataHora'] < data_inicio)\n",
    "        )\n",
    "\n",
    "        # Se for recolhido, filtra também pelo mesmo circuito\n",
    "        if coluna_flag_origem == 'Recolhido':\n",
    "            condicoes &= (df['Circuito'] == circuito)\n",
    "\n",
    "        df_filtrado = df[condicoes]\n",
    "\n",
    "        # Escolher os registos com a ação\n",
    "        if coluna_flag_origem == 'Recolhido':\n",
    "            df_validos = df_filtrado[df_filtrado[tipos_recolha[tipo]] == 1]\n",
    "        else:\n",
    "            df_validos = df_filtrado[pd.notna(df_filtrado[tipo])]\n",
    "\n",
    "        # Obter o último (mais recente)\n",
    "        if not df_validos.empty:\n",
    "            ultima_datahora = df_validos['DataHora'].max()\n",
    "            resultado_df.at[idx, coluna_destino] = data_inicio - ultima_datahora\n",
    "        else:\n",
    "            resultado_df.at[idx, coluna_destino] = pd.NaT\n",
    "\n"
   ]
  },
  {
   "cell_type": "markdown",
   "id": "128cf2f5-7e35-46f5-b701-f9d469887ac1",
   "metadata": {},
   "source": [
    "Esta função calcula quanto tempo passou desde a última observação ou recolha, até ao início do dia daquela linha."
   ]
  },
  {
   "cell_type": "markdown",
   "id": "29fcfa06-2e37-4681-a449-1fffb8660c72",
   "metadata": {},
   "source": [
    "Cria-se uma cópia do df para não alterar o original.\n",
    "Cria-se a coluna 'DataHora' onde se junta a data e a hora.\n",
    "Inicializa-se a nova coluna de destino (ex: 'ultima_observacao') com valores vazios (NaT = Not a Time)"
   ]
  },
  {
   "cell_type": "markdown",
   "id": "d0f2b73b-04ca-4b4e-850b-3e880c2f0103",
   "metadata": {},
   "source": [
    "Percorre cada linha do resultados_df e extrai-se o ponto, tipo, circuito e data. Define-se o inicio do dia correpondente à linha atual "
   ]
  },
  {
   "cell_type": "markdown",
   "id": "0e566427-84c4-4446-8d2c-ae9beaddf5c4",
   "metadata": {},
   "source": [
    "As condições servem para filtrar apenas os registos antes do início do dia e para o ponto atual."
   ]
  },
  {
   "cell_type": "markdown",
   "id": "9d33d49a-8420-4e33-88ba-057ebbcf3686",
   "metadata": {},
   "source": [
    "Se a coluna flag for Recolhido, então no filtro inclui-se também o circuito"
   ]
  },
  {
   "cell_type": "markdown",
   "id": "a492fc8b-ec3c-41dc-bcdc-253d05c0ad07",
   "metadata": {},
   "source": [
    "Cria-se um dataframe com as condições"
   ]
  },
  {
   "cell_type": "markdown",
   "id": "0f7ed0f0-c104-47b8-b4b4-40dab956784b",
   "metadata": {},
   "source": [
    "Se a coluna flag for Recolhido, filtra-se apenas as linhas onde houve recolha para aquele tipo, antes do início do dia. (df_validos)"
   ]
  },
  {
   "cell_type": "markdown",
   "id": "579f8192-fd8c-416e-ae17-237bda13f655",
   "metadata": {},
   "source": [
    "Se for Observacao (else), vai buscar a ultimo registo para o tipo, que seja diferente de NaN (df_validos)"
   ]
  },
  {
   "cell_type": "markdown",
   "id": "5b38dc19-0414-4802-bccc-5cf6fb723c33",
   "metadata": {},
   "source": [
    "df_validos['DataHora'].max(): \n",
    "\n",
    "Esta linha obtém o timestamp mais recente (ou seja, o último) entre os registos válidos antes do início do dia.\n"
   ]
  },
  {
   "cell_type": "markdown",
   "id": "0c64ed53-39a2-4d9f-8eca-9ed3e8fd15c5",
   "metadata": {},
   "source": [
    "data_inicio - ultima_datahora:\n",
    "\n",
    "Calcula a diferença de tempo entre o início do dia atual (00:00h) e a última ação registada.\n",
    "\n"
   ]
  },
  {
   "cell_type": "markdown",
   "id": "5b149a3f-837a-43d0-8fe9-12b7497d8974",
   "metadata": {},
   "source": [
    "resultado_df.at[idx, coluna_destino]:\n",
    "\n",
    "Atribui o tempo decorrido diretamente à linha correspondente no resultado_df, na nova coluna ('ultima_observacao' ou 'ultima_recolha')."
   ]
  },
  {
   "cell_type": "markdown",
   "id": "96525dc5-020d-4dcc-b91f-288607bf5909",
   "metadata": {},
   "source": [
    "É atribuido NaT quando não existiu nenhum registo válido antes do início do dia, ou seja, df_validos.empty é True"
   ]
  },
  {
   "cell_type": "code",
   "execution_count": null,
   "id": "74d608d4-5c80-49a3-87ba-be6632ff222a",
   "metadata": {},
   "outputs": [],
   "source": []
  },
  {
   "cell_type": "code",
   "execution_count": null,
   "id": "ff05bda6-5ac3-4de7-a87a-b4061cd46f1b",
   "metadata": {},
   "outputs": [],
   "source": []
  },
  {
   "cell_type": "markdown",
   "id": "1f137749-0eb2-4ed9-97b7-b3c7f26520cf",
   "metadata": {},
   "source": [
    "Exemplo:"
   ]
  },
  {
   "cell_type": "markdown",
   "id": "b9bd0021-aa7d-4898-85bb-5d2e0a6ddec4",
   "metadata": {},
   "source": [
    "Se uma observação foi feita no dia 02-03-2024 às 13:30:00, no dia 03-03-2024 vai aparecer na coluna ultima_observação que\n",
    "a ultima observação foi feita à 0 days 10:30:00"
   ]
  },
  {
   "cell_type": "markdown",
   "id": "1f5b3c58-d788-4563-bddb-2215493f48fc",
   "metadata": {},
   "source": []
  },
  {
   "cell_type": "code",
   "execution_count": null,
   "id": "9c46634b-d0d5-4065-8c3b-10c6c9984c32",
   "metadata": {},
   "outputs": [],
   "source": []
  },
  {
   "cell_type": "code",
   "execution_count": null,
   "id": "282ec26b-8255-4477-9085-296a087071bf",
   "metadata": {},
   "outputs": [],
   "source": []
  },
  {
   "cell_type": "code",
   "execution_count": null,
   "id": "ed97a479-f7e5-4eae-9b4b-ea19e0c8e2b8",
   "metadata": {},
   "outputs": [],
   "source": []
  },
  {
   "cell_type": "code",
   "execution_count": null,
   "id": "1bac3b8b-fdd4-4759-8111-3920b774ae56",
   "metadata": {},
   "outputs": [],
   "source": []
  },
  {
   "cell_type": "code",
   "execution_count": null,
   "id": "1dcc0a9d-b451-4963-a867-93a8cf7e6443",
   "metadata": {},
   "outputs": [],
   "source": []
  },
  {
   "cell_type": "code",
   "execution_count": 25,
   "id": "030cfb37-174a-49c7-812b-6668fc1769a2",
   "metadata": {},
   "outputs": [
    {
     "name": "stderr",
     "output_type": "stream",
     "text": [
      "C:\\Users\\simao\\AppData\\Local\\Temp\\ipykernel_15684\\3112035281.py:34: FutureWarning: Setting an item of incompatible dtype is deprecated and will raise an error in a future version of pandas. Value '0 days 19:27:30' has dtype incompatible with datetime64[ns], please explicitly cast to a compatible dtype first.\n",
      "  resultado_df.at[idx, coluna_destino] = data_inicio - ultima_datahora\n",
      "C:\\Users\\simao\\AppData\\Local\\Temp\\ipykernel_15684\\3112035281.py:34: FutureWarning: Setting an item of incompatible dtype is deprecated and will raise an error in a future version of pandas. Value '0 days 19:27:46' has dtype incompatible with datetime64[ns], please explicitly cast to a compatible dtype first.\n",
      "  resultado_df.at[idx, coluna_destino] = data_inicio - ultima_datahora\n"
     ]
    }
   ],
   "source": [
    "# Aplicar para observacao e recolha\n",
    "calcular_tempo_desde_ultima_acao(resultado_df, df, 'Recolhido', 'ultima_recolha')\n",
    "calcular_tempo_desde_ultima_acao(resultado_df, df, 'Observacao', 'ultima_observacao')"
   ]
  },
  {
   "cell_type": "code",
   "execution_count": null,
   "id": "82534a8e-c7d6-4a07-ab0a-f2cbe17345bc",
   "metadata": {},
   "outputs": [],
   "source": []
  },
  {
   "cell_type": "code",
   "execution_count": 28,
   "id": "cfdf987e-a633-43bd-ac30-9c4ba659cb63",
   "metadata": {},
   "outputs": [],
   "source": [
    "resultado_df[\"deltas\"] = resultado_df[\"Nivel_fim\"] - resultado_df[\"Nivel_inicio\"]"
   ]
  },
  {
   "cell_type": "code",
   "execution_count": null,
   "id": "d5dff802-4dbc-427d-8abd-41cfd7a3bdbd",
   "metadata": {},
   "outputs": [],
   "source": []
  },
  {
   "cell_type": "code",
   "execution_count": null,
   "id": "2e71d48c-96e7-4c7c-9bc8-2887386fdb41",
   "metadata": {},
   "outputs": [],
   "source": []
  },
  {
   "cell_type": "code",
   "execution_count": 32,
   "id": "5d52ad0f-44dd-473d-bb9f-9794358f3474",
   "metadata": {},
   "outputs": [
    {
     "name": "stdout",
     "output_type": "stream",
     "text": [
      "              Data     Circuito        Tipo  local_id Nivel_inicio Nivel_fim  \\\n",
      "887     2024-01-03  Circ. Ilhas       Vidro      3844          2.0       1.0   \n",
      "893     2024-01-03  Circ. Ilhas       Vidro      3681          2.0       1.0   \n",
      "925     2024-01-03  Circ. Ilhas       Vidro      3582          2.0       1.0   \n",
      "926     2024-01-03  Circ. Ilhas       Vidro      6531          2.0       1.0   \n",
      "1336    2024-01-03  Circuito 07  Embalagens      3870          2.0       1.0   \n",
      "...            ...          ...         ...       ...          ...       ...   \n",
      "362282  2024-12-31  Circuito 12       Vidro      4391          4.0       1.0   \n",
      "362323  2024-12-31  Circuito 12       Vidro      4411          5.0       1.0   \n",
      "362349  2024-12-31  Circuito 12       Vidro      4299          4.0       1.0   \n",
      "362351  2024-12-31  Circuito 12       Vidro      4396          5.0       4.0   \n",
      "362352  2024-12-31  Circuito 12       Vidro      4295          4.0       1.0   \n",
      "\n",
      "        Recolhido  Observacao    ultima_recolha ultima_observacao deltas  \n",
      "887             0           1               NaT   0 days 19:27:46   -1.0  \n",
      "893             0           1               NaT   0 days 17:43:51   -1.0  \n",
      "925             0           1               NaT   0 days 17:43:25   -1.0  \n",
      "926             0           1               NaT   0 days 17:43:09   -1.0  \n",
      "1336            0           1               NaT   0 days 19:27:17   -1.0  \n",
      "...           ...         ...               ...               ...    ...  \n",
      "362282          1           1  89 days 07:28:33   0 days 07:31:37   -3.0  \n",
      "362323          0           1   0 days 06:45:43   0 days 06:45:43   -4.0  \n",
      "362349          1           1  33 days 06:11:15   0 days 07:04:53   -3.0  \n",
      "362351          1           1  34 days 08:00:22   0 days 05:51:45   -1.0  \n",
      "362352          1           1  30 days 07:09:48   0 days 05:40:31   -3.0  \n",
      "\n",
      "[43854 rows x 11 columns]\n"
     ]
    }
   ],
   "source": [
    "inconsistencias = resultado_df[resultado_df[\"Nivel_inicio\"] > resultado_df[\"Nivel_fim\"]]\n",
    "print(inconsistencias)"
   ]
  },
  {
   "cell_type": "code",
   "execution_count": 34,
   "id": "1b0ae3d9-b7cd-4e7e-8b67-919988317689",
   "metadata": {},
   "outputs": [
    {
     "name": "stdout",
     "output_type": "stream",
     "text": [
      "              Data     Circuito        Tipo  local_id Nivel_inicio Nivel_fim  \\\n",
      "845     2024-01-03  Circ. Ilhas       Papel      3844          2.0       5.0   \n",
      "886     2024-01-03  Circ. Ilhas       Vidro      3864          1.0       2.0   \n",
      "888     2024-01-03  Circ. Ilhas       Vidro      3865          3.0       4.0   \n",
      "896     2024-01-03  Circ. Ilhas       Vidro      3929          4.0       5.0   \n",
      "899     2024-01-03  Circ. Ilhas       Vidro      3664          2.0       3.0   \n",
      "...            ...          ...         ...       ...          ...       ...   \n",
      "362211  2024-12-31  Circuito 12  Embalagens      4415          3.0       4.0   \n",
      "362212  2024-12-31  Circuito 12  Embalagens      4417          3.0       4.0   \n",
      "362213  2024-12-31  Circuito 12  Embalagens      4418          1.0       2.0   \n",
      "362347  2024-12-31  Circuito 12       Vidro      4294          1.0       3.0   \n",
      "362350  2024-12-31  Circuito 12       Vidro      4296          1.0       4.0   \n",
      "\n",
      "        Recolhido  Observacao    ultima_recolha ultima_observacao deltas  \n",
      "845             1           1               NaT   0 days 19:27:46    3.0  \n",
      "886             0           1               NaT   0 days 19:39:11    1.0  \n",
      "888             1           1               NaT   0 days 19:27:30    1.0  \n",
      "896             1           1               NaT   0 days 16:18:51    1.0  \n",
      "899             0           1               NaT   0 days 14:53:19    1.0  \n",
      "...           ...         ...               ...               ...    ...  \n",
      "362211          1           1   3 days 09:14:31   0 days 09:09:31    1.0  \n",
      "362212          1           1   3 days 09:10:14   0 days 09:04:41    1.0  \n",
      "362213          1           1   3 days 09:05:10   0 days 09:00:59    1.0  \n",
      "362347          0           1  30 days 07:07:28   0 days 05:56:18    2.0  \n",
      "362350          0           1  34 days 08:03:30   0 days 05:47:20    3.0  \n",
      "\n",
      "[75902 rows x 11 columns]\n"
     ]
    }
   ],
   "source": [
    "maior = resultado_df[resultado_df[\"Nivel_inicio\"] < resultado_df[\"Nivel_fim\"]]\n",
    "print(maior)"
   ]
  },
  {
   "cell_type": "code",
   "execution_count": 36,
   "id": "df3ab10e-4b99-41cb-8c90-819b9809afaf",
   "metadata": {},
   "outputs": [
    {
     "name": "stdout",
     "output_type": "stream",
     "text": [
      "              Data     Circuito   Tipo  local_id Nivel_inicio Nivel_fim  \\\n",
      "846     2024-01-03  Circ. Ilhas  Papel      3865          4.0       4.0   \n",
      "849     2024-01-03  Circ. Ilhas  Papel      3734          4.0       4.0   \n",
      "852     2024-01-03  Circ. Ilhas  Papel      3685          3.0       3.0   \n",
      "856     2024-01-03  Circ. Ilhas  Papel      6568          3.0       3.0   \n",
      "858     2024-01-03  Circ. Ilhas  Papel      6565          3.0       3.0   \n",
      "...            ...          ...    ...       ...          ...       ...   \n",
      "362359  2024-12-31  Circuito 12  Vidro      6456          1.0       1.0   \n",
      "362360  2024-12-31  Circuito 12  Vidro      4310          1.0       1.0   \n",
      "362361  2024-12-31  Circuito 12  Vidro      4370          4.0       4.0   \n",
      "362362  2024-12-31  Circuito 12  Vidro      4344          1.0       1.0   \n",
      "362363  2024-12-31  Circuito 12  Vidro      4340          1.0       1.0   \n",
      "\n",
      "        Recolhido  Observacao     ultima_recolha ultima_observacao deltas  \n",
      "846             0           1    0 days 19:27:30   0 days 19:27:30    0.0  \n",
      "849             0           1    0 days 19:05:27   0 days 19:05:27    0.0  \n",
      "852             0           1    0 days 17:43:42   0 days 17:43:42    0.0  \n",
      "856             1           1    0 days 15:04:16   0 days 15:04:16    0.0  \n",
      "858             0           1    0 days 14:51:59   0 days 14:51:59    0.0  \n",
      "...           ...         ...                ...               ...    ...  \n",
      "362359          0           0  222 days 11:24:52   2 days 10:04:52    0.0  \n",
      "362360          0           1   94 days 10:49:06   0 days 08:59:37    0.0  \n",
      "362361          0           0    3 days 09:44:46  11 days 07:36:37    0.0  \n",
      "362362          0           0                NaT  61 days 09:08:59    0.0  \n",
      "362363          0           0                NaT  54 days 07:28:25    0.0  \n",
      "\n",
      "[226231 rows x 11 columns]\n"
     ]
    }
   ],
   "source": [
    "igual = resultado_df[resultado_df[\"Nivel_inicio\"] == resultado_df[\"Nivel_fim\"]]\n",
    "print(igual)"
   ]
  },
  {
   "cell_type": "code",
   "execution_count": null,
   "id": "34fcbc2e-b64e-41d0-8dcf-c1be3a575f3a",
   "metadata": {},
   "outputs": [],
   "source": []
  },
  {
   "cell_type": "code",
   "execution_count": null,
   "id": "df8bba12-7d05-48d0-8e82-954cbda6fb11",
   "metadata": {},
   "outputs": [],
   "source": []
  },
  {
   "cell_type": "code",
   "execution_count": 47,
   "id": "4ba6f677-e53e-4d97-ad66-5b97b3c5fd7d",
   "metadata": {},
   "outputs": [],
   "source": [
    "# Substituir células vazias ou pd.NA por string \"NaN\" (para visualização) nas colunas de níveis\n",
    "resultado_df[\"Nivel_inicio\"] = resultado_df[\"Nivel_inicio\"].apply(lambda x: \"NaN\" if pd.isna(x) else x)\n",
    "resultado_df[\"Nivel_fim\"] = resultado_df[\"Nivel_fim\"].apply(lambda x: \"NaN\" if pd.isna(x) else x)"
   ]
  },
  {
   "cell_type": "code",
   "execution_count": null,
   "id": "d8d2daa8-97b2-43a4-88ba-17d5795e13e2",
   "metadata": {},
   "outputs": [],
   "source": []
  },
  {
   "cell_type": "code",
   "execution_count": null,
   "id": "1f0d6520-bf7d-4241-8b2a-9358ae309d9e",
   "metadata": {},
   "outputs": [],
   "source": []
  },
  {
   "cell_type": "code",
   "execution_count": null,
   "id": "2c0969f7-9889-44ec-9c2e-9fe00082b43c",
   "metadata": {},
   "outputs": [],
   "source": [
    "resultado_df['ultima_recolha']=pd.to_timedelta(resultado_df['ultima_recolha'])\n",
    "resultado_df['ultima_observacao']=pd.to_timedelta(resultado_df['ultima_observacao'])"
   ]
  },
  {
   "cell_type": "code",
   "execution_count": null,
   "id": "5e51856f-2031-4752-8dbd-7a02f1629e44",
   "metadata": {},
   "outputs": [],
   "source": []
  },
  {
   "cell_type": "code",
   "execution_count": 57,
   "id": "a1fd0019-388a-49de-9b3d-d3ebd693f5d1",
   "metadata": {},
   "outputs": [],
   "source": [
    "# Substituir células vazias ou pd.NA por string \"NaN\" (para visualização) nas colunas de níveis\n",
    "resultado_df[\"ultima_recolha\"] = resultado_df[\"ultima_recolha\"].apply(lambda x: \"NaN\" if pd.isna(x) else x)\n",
    "resultado_df[\"ultima_observacao\"] = resultado_df[\"ultima_observacao\"].apply(lambda x: \"NaN\" if pd.isna(x) else x)"
   ]
  },
  {
   "cell_type": "code",
   "execution_count": null,
   "id": "fddc67b4-4458-466f-907f-2c4e08c187de",
   "metadata": {},
   "outputs": [],
   "source": []
  },
  {
   "cell_type": "code",
   "execution_count": 50,
   "id": "689dc8d9-5e27-4204-850c-740a1c6b3934",
   "metadata": {},
   "outputs": [],
   "source": [
    "resultado_df[\"deltas\"] = resultado_df[\"deltas\"].apply(lambda x: \"NaN\" if pd.isna(x) else x)"
   ]
  },
  {
   "cell_type": "code",
   "execution_count": null,
   "id": "482f1a84-6e55-4c24-bf8f-ff29c3ba2cef",
   "metadata": {},
   "outputs": [],
   "source": []
  },
  {
   "cell_type": "code",
   "execution_count": null,
   "id": "6e75ba2d-5541-4d97-a5fa-e0fa2bd16e37",
   "metadata": {},
   "outputs": [],
   "source": []
  },
  {
   "cell_type": "markdown",
   "id": "226ca4d8-f8bb-46ca-996f-548de57b158b",
   "metadata": {},
   "source": [
    "Exemplos (Confirmar com a tabela_dados_nivel_recolha_ordenado_v2)"
   ]
  },
  {
   "cell_type": "markdown",
   "id": "9fc2636f-729a-4990-9af2-50c860dfe64f",
   "metadata": {},
   "source": [
    "Caso 1 (Não foi observado nem recolhido)\n",
    "\n",
    "No dataset no dia 2024-03-18, no Circ. Ilhas o ponto 6565 não foi observado(pois não aparece nesse dia, nesse circuito) nem recolhido.\n",
    "O seu nivel inicial vai ser o nivel mais atualizado até à data (ultino nivel foi no dia 2024-03-16) e como o não houve observação nem recolha\n",
    "o seu nivel final manteve-se.\n"
   ]
  },
  {
   "cell_type": "markdown",
   "id": "afc98f53-d49a-4821-a112-30a1bfb9694a",
   "metadata": {},
   "source": [
    "Caso 2 (Foi observado e recolhido)\n",
    "\n",
    "No dataset no dia 2024-03-21, no Circuito 01 o ponto 3232 foi recolhido, logo também foi observado. \n",
    "O seu nível inicial vai ser o  o nivel mais atualizado até à data (ultino nivel foi no dia 2024-03-19, nivel 2) e  o nivel final é o nivel \n",
    "no momento da recolha (nível 5).\n",
    "\n",
    "No dataset no dia 2024-03-21, no Circuito 01 o ponto 4228 foi recolhido, logo também foi observado. \n",
    "O seu nível inicial vai ser o  o nivel mais atualizado até à data (ultino nivel foi no dia 2024-03-19, nivel 2) e  o nivel final é o nivel \n",
    "no momento da recolha (NaN)."
   ]
  },
  {
   "cell_type": "markdown",
   "id": "4f069c4e-6e74-4792-8b3f-ce0cb17c9544",
   "metadata": {},
   "source": [
    "Caso 3 (Foi observado e não foi recolhido)\n",
    "\n",
    "No dataset no dia 2024-03-19, no Circuito 03, tipo Embalagens, o ponto 4230 foi observado, mas nao foi recolhido \n",
    "O seu nível inicial vai ser o  o nivel mais atualizado até à data (ultino nivel foi no dia 2024-03-18, nivel 2) e o nivel final é o nivel \n",
    "no momento da observação (nível 1).\n",
    "\n",
    "\n"
   ]
  },
  {
   "cell_type": "code",
   "execution_count": null,
   "id": "fb7784fa-864e-4c34-8ce0-a7fab140e8cc",
   "metadata": {},
   "outputs": [],
   "source": []
  },
  {
   "cell_type": "code",
   "execution_count": null,
   "id": "335843f4-8d03-4777-aec9-1cf4a2e22ba5",
   "metadata": {},
   "outputs": [],
   "source": []
  },
  {
   "cell_type": "code",
   "execution_count": 59,
   "id": "043bbeb7-13df-4322-8036-3ee6b1742aa1",
   "metadata": {},
   "outputs": [],
   "source": [
    "# Guardar ou visualizar\n",
    "resultado_df.to_csv(\"TabelaObservacaoRecolhido.csv\", index=False)\n"
   ]
  },
  {
   "cell_type": "markdown",
   "id": "8f10f847-7cd9-435b-aefe-0f2c48b55296",
   "metadata": {},
   "source": [
    "## Descrição das colunas"
   ]
  },
  {
   "cell_type": "markdown",
   "id": "03f910d3-aa1c-45b7-94de-18e32d205184",
   "metadata": {},
   "source": [
    "Nivel_inicio = Para o ponto, é o nível mais atualizado que se sabe antes desse dia começar (começarem a fazer qualquer rota). Caso o nível mais atualizado seja NaN, é colocado lá o ultimo valor diferente de NaN. Caso só haja NaN, coloca-se NaN"
   ]
  },
  {
   "cell_type": "markdown",
   "id": "0a10921b-1d9b-42e4-ba6c-2755ac107491",
   "metadata": {},
   "source": [
    "Nivel_fim = Quando o dia acaba (quando as rotas todas para esse dia foram feitas), é o nível que ficou registado. Se para esse ponto houve recolha, o nível aqui presente será o nivel a que estava aquando da recolha. Se houve observação, mas não houve recolha, o nível que vai se colocar é o nível aquando da observação. Se neste caso o nível for NaN, coloca-se o ultimo não NaN. Se não houve observação nem recolha, o nivel de fim vai ser igual ao nível de inicio."
   ]
  },
  {
   "cell_type": "markdown",
   "id": "2461f8f1-c053-4f9f-bf82-5defa4c345f4",
   "metadata": {},
   "source": [
    "Recolhido = Se o ponto foi recolhido nesse Dia, Cirucito, e Tipo. (0 não foi, 1 foi) "
   ]
  },
  {
   "cell_type": "markdown",
   "id": "108d4d17-b935-48a3-94e2-0afafc3b2cc5",
   "metadata": {},
   "source": [
    "Observacao = Se o houve algum registo do ponto para esse dia no ficheiro a que deu origem a esta tabela (1 se houve, 0 se não)"
   ]
  },
  {
   "cell_type": "markdown",
   "id": "6f5da76b-60dd-4950-a75b-3042c99398b6",
   "metadata": {},
   "source": [
    "ultima_observacao = Representa o tempo que passou desde a última observação até ao início do dia atual (aqui é procurado em todos os circuitos)"
   ]
  },
  {
   "cell_type": "markdown",
   "id": "4b51b23d-9965-4967-afcc-e6c425123cc7",
   "metadata": {},
   "source": [
    "ultima_recolha = Representa o tempo que passou desde a última recolha até ao início do dia atual (só é procurado no circuito em questão)"
   ]
  },
  {
   "cell_type": "markdown",
   "id": "bb2593a9-c52c-409a-83cc-085767f98a19",
   "metadata": {},
   "source": [
    "deltas = diferença entre nivel_fim - nivel_inicio"
   ]
  },
  {
   "cell_type": "code",
   "execution_count": null,
   "id": "0a9c2d2b-f1a0-429f-a3fa-8fb71f5d051d",
   "metadata": {},
   "outputs": [],
   "source": []
  },
  {
   "cell_type": "code",
   "execution_count": null,
   "id": "57c1f969-e9a1-43f3-8c45-f6779e634d56",
   "metadata": {},
   "outputs": [],
   "source": []
  }
 ],
 "metadata": {
  "kernelspec": {
   "display_name": "Python [conda env:base] *",
   "language": "python",
   "name": "conda-base-py"
  },
  "language_info": {
   "codemirror_mode": {
    "name": "ipython",
    "version": 3
   },
   "file_extension": ".py",
   "mimetype": "text/x-python",
   "name": "python",
   "nbconvert_exporter": "python",
   "pygments_lexer": "ipython3",
   "version": "3.12.7"
  }
 },
 "nbformat": 4,
 "nbformat_minor": 5
}
