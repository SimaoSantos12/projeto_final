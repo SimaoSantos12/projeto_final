{
 "cells": [
  {
   "cell_type": "code",
   "execution_count": 117,
   "id": "359766a2-eee0-4b0c-b5aa-96320d7cf711",
   "metadata": {},
   "outputs": [],
   "source": [
    "import pandas as pd\n",
    "import numpy as np"
   ]
  },
  {
   "cell_type": "code",
   "execution_count": 118,
   "id": "740aed55-e0a8-4df2-a31d-270e407b5e50",
   "metadata": {},
   "outputs": [],
   "source": [
    "df_hgb = pd.read_csv(\"../data/solucao_solvers_dez_hgb_alterado.csv\", delimiter=';')"
   ]
  },
  {
   "cell_type": "code",
   "execution_count": 119,
   "id": "83374677-80b5-4f53-b390-304e191494aa",
   "metadata": {},
   "outputs": [],
   "source": [
    "df_normal = pd.read_csv(\"../data/solucao_solvers_dez_normal.csv\", delimiter=';')"
   ]
  },
  {
   "cell_type": "code",
   "execution_count": 120,
   "id": "c15a96e0-4fb2-41af-8a0c-8888f8866612",
   "metadata": {},
   "outputs": [],
   "source": [
    "#df_normal.info()"
   ]
  },
  {
   "cell_type": "code",
   "execution_count": 121,
   "id": "8d045869-3630-476a-bece-bf4bc3a5b87b",
   "metadata": {},
   "outputs": [],
   "source": [
    "#df_hgb.info()"
   ]
  },
  {
   "cell_type": "code",
   "execution_count": 122,
   "id": "3b631780-71f3-4057-b924-252d5cd6a0b6",
   "metadata": {},
   "outputs": [],
   "source": [
    "df_hgb = df_hgb.drop_duplicates(subset=[\"data\", \"circuito\", \"tipo\"])\n"
   ]
  },
  {
   "cell_type": "code",
   "execution_count": 123,
   "id": "c2dd02f0-1f31-4a36-9e06-028ca7b98ee0",
   "metadata": {},
   "outputs": [],
   "source": [
    "df_hgb[\"frac_lixo_nao_rec_rota2\"] = df_hgb[\"uncollected_prizes_rota2\"] / (\n",
    "    df_hgb[\"uncollected_prizes_rota2\"] + df_hgb[\"prizes_rota2\"]\n",
    ")\n",
    "\n",
    "df_hgb[\"frac_lixo_nao_rec_rota1\"] = df_hgb[\"uncollected_prizes_rota1\"] / (\n",
    "    df_hgb[\"uncollected_prizes_rota1\"] + df_hgb[\"prizes_rota1\"]\n",
    ")\n"
   ]
  },
  {
   "cell_type": "code",
   "execution_count": 124,
   "id": "df7b8eaf-b39b-4108-ad29-2249722c3c68",
   "metadata": {},
   "outputs": [],
   "source": [
    "df_normal[\"frac_lixo_nao_rec_rota1\"] = df_normal[\"uncollected_prizes_rota1\"] / (\n",
    "    df_normal[\"uncollected_prizes_rota1\"] + df_normal[\"prizes_rota1\"]\n",
    ")\n"
   ]
  },
  {
   "cell_type": "code",
   "execution_count": 125,
   "id": "9b1f81ed-7ec9-4a33-a38d-976af9a0c63f",
   "metadata": {},
   "outputs": [],
   "source": [
    "media_rota_hgb = df_hgb[\"frac_lixo_nao_rec_rota2\"].mean()\n",
    "media_rota_baseline = df_normal[\"frac_lixo_nao_rec_rota1\"].mean()\n",
    "media_rota_hgb_rota1 = df_hgb[\"frac_lixo_nao_rec_rota1\"].mean()\n",
    "\n",
    "\n",
    "\n"
   ]
  },
  {
   "cell_type": "code",
   "execution_count": 126,
   "id": "fc860665-6d1d-4870-a752-3d2b7a689546",
   "metadata": {},
   "outputs": [
    {
     "data": {
      "text/plain": [
       "0.3533178437175254"
      ]
     },
     "execution_count": 126,
     "metadata": {},
     "output_type": "execute_result"
    }
   ],
   "source": [
    "media_rota_hgb_rota1"
   ]
  },
  {
   "cell_type": "code",
   "execution_count": 127,
   "id": "c91c84b0-f3a5-4ed8-997c-b1a2f7ee50a9",
   "metadata": {},
   "outputs": [
    {
     "data": {
      "text/plain": [
       "0.3104502592904495"
      ]
     },
     "execution_count": 127,
     "metadata": {},
     "output_type": "execute_result"
    }
   ],
   "source": [
    "media_rota_baseline"
   ]
  },
  {
   "cell_type": "code",
   "execution_count": 128,
   "id": "d0b1ba2b-f81d-4d1f-8f6a-8ed09a6c2c68",
   "metadata": {},
   "outputs": [
    {
     "data": {
      "text/plain": [
       "0.3795532499433815"
      ]
     },
     "execution_count": 128,
     "metadata": {},
     "output_type": "execute_result"
    }
   ],
   "source": [
    "media_rota_hgb"
   ]
  },
  {
   "cell_type": "code",
   "execution_count": 129,
   "id": "ab64b519-4f23-4a70-addf-f0355f386e4b",
   "metadata": {},
   "outputs": [],
   "source": [
    "#df_normal"
   ]
  },
  {
   "cell_type": "code",
   "execution_count": 130,
   "id": "5ce291d1-c13c-4d64-ad8f-8b8adceafdd9",
   "metadata": {},
   "outputs": [],
   "source": [
    "#df_hgb"
   ]
  },
  {
   "cell_type": "code",
   "execution_count": 131,
   "id": "a44ed570-b68b-4fc8-86a4-bb4281148db4",
   "metadata": {},
   "outputs": [],
   "source": [
    "dist_media_normal= df_normal[\"distancia_rota1\"].mean()"
   ]
  },
  {
   "cell_type": "code",
   "execution_count": 132,
   "id": "35bc93eb-c671-45e8-af77-ab23f6ab2623",
   "metadata": {},
   "outputs": [],
   "source": [
    "dist_media_hgb= df_hgb[\"distancia_rota2\"].mean()"
   ]
  },
  {
   "cell_type": "code",
   "execution_count": 133,
   "id": "5d761a84-0387-430d-b536-4049dc2b3126",
   "metadata": {},
   "outputs": [
    {
     "data": {
      "text/plain": [
       "29608.40806122449"
      ]
     },
     "execution_count": 133,
     "metadata": {},
     "output_type": "execute_result"
    }
   ],
   "source": [
    "dist_media_normal"
   ]
  },
  {
   "cell_type": "code",
   "execution_count": 134,
   "id": "6e484ae6-7e10-4799-a462-30d8df23ccbf",
   "metadata": {},
   "outputs": [
    {
     "data": {
      "text/plain": [
       "28143.6168622449"
      ]
     },
     "execution_count": 134,
     "metadata": {},
     "output_type": "execute_result"
    }
   ],
   "source": [
    "dist_media_hgb"
   ]
  },
  {
   "cell_type": "code",
   "execution_count": null,
   "id": "3554d7fa-5eb8-4575-af31-7896caa24fcb",
   "metadata": {},
   "outputs": [],
   "source": []
  },
  {
   "cell_type": "code",
   "execution_count": null,
   "id": "07d85b42-8a43-400d-ab04-b78ab135fb05",
   "metadata": {},
   "outputs": [],
   "source": []
  },
  {
   "cell_type": "code",
   "execution_count": null,
   "id": "a26fd52f-b04d-4277-92c0-06baf71818b6",
   "metadata": {},
   "outputs": [],
   "source": []
  },
  {
   "cell_type": "code",
   "execution_count": 101,
   "id": "3a8bd993-810c-484f-93bf-98d3cab1684d",
   "metadata": {},
   "outputs": [
    {
     "data": {
      "text/plain": [
       "40921.100239567866"
      ]
     },
     "execution_count": 101,
     "metadata": {},
     "output_type": "execute_result"
    }
   ],
   "source": [
    "df_hgb[\"uncollected_prizes_rota2\"].sum()"
   ]
  },
  {
   "cell_type": "code",
   "execution_count": 102,
   "id": "a09d1928-e863-4b62-a09d-1fe1d36ec4b8",
   "metadata": {},
   "outputs": [
    {
     "data": {
      "text/plain": [
       "31772"
      ]
     },
     "execution_count": 102,
     "metadata": {},
     "output_type": "execute_result"
    }
   ],
   "source": [
    "df_normal[\"uncollected_prizes_rota1\"].sum()"
   ]
  },
  {
   "cell_type": "code",
   "execution_count": null,
   "id": "1abc507a-ad18-485c-8088-a25ad9c506e5",
   "metadata": {},
   "outputs": [],
   "source": []
  },
  {
   "cell_type": "code",
   "execution_count": null,
   "id": "cc3fa7ac-b262-4a2c-9955-01fa3e36213a",
   "metadata": {},
   "outputs": [],
   "source": []
  },
  {
   "cell_type": "code",
   "execution_count": 93,
   "id": "d9abd7d5-0ae9-4cd1-b436-2d37c9f1db09",
   "metadata": {},
   "outputs": [],
   "source": [
    "#df_hgb.to_csv(\"../data/solucao_solvers_dez_hgb_frac.csv\", index=False)\n",
    "#df_normal.to_csv(\"../data/solucao_solvers_dez_normal_frac.csv\", index=False)"
   ]
  },
  {
   "cell_type": "code",
   "execution_count": null,
   "id": "e9165b86-5d4a-4e08-b45e-99eaece87251",
   "metadata": {},
   "outputs": [],
   "source": []
  }
 ],
 "metadata": {
  "kernelspec": {
   "display_name": "Python 3 (ipykernel)",
   "language": "python",
   "name": "python3"
  },
  "language_info": {
   "codemirror_mode": {
    "name": "ipython",
    "version": 3
   },
   "file_extension": ".py",
   "mimetype": "text/x-python",
   "name": "python",
   "nbconvert_exporter": "python",
   "pygments_lexer": "ipython3",
   "version": "3.11.11"
  }
 },
 "nbformat": 4,
 "nbformat_minor": 5
}
